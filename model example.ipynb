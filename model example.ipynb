{
 "cells": [
  {
   "cell_type": "code",
   "execution_count": null,
   "id": "12ba8d1a",
   "metadata": {},
   "outputs": [],
   "source": [
    "import numpy as np\n",
    "import os\n",
    "import pickle\n",
    "import h5py\n",
    "import pandas as pd\n",
    "\n",
    "import tensorflow as tf\n",
    "from tensorflow.keras.models import load_model\n",
    "\n",
    "from hfnet import HFNet"
   ]
  },
  {
   "cell_type": "code",
   "execution_count": null,
   "id": "8ca50da8",
   "metadata": {},
   "outputs": [],
   "source": [
    "os.environ[\"CUDA_VISIBLE_DEVICES\"] = str(0)\n",
    "gpus = tf.config.list_physical_devices('GPU')\n",
    "tf.config.set_visible_devices(gpus[0], 'GPU')\n",
    "tf.config.experimental.set_memory_growth(gpus[0], True)"
   ]
  },
  {
   "cell_type": "code",
   "execution_count": null,
   "id": "14bbf881",
   "metadata": {},
   "outputs": [],
   "source": [
    "# This characterises what the tabular input to the model looks like.\n",
    "# In this case, we just have two demographic features: age and sex\n",
    "TAB_SIZE_SPEC = {\n",
    "    'demo': [0,2],\n",
    "}"
   ]
  },
  {
   "cell_type": "code",
   "execution_count": null,
   "id": "9d3a3e7e",
   "metadata": {
    "scrolled": true
   },
   "outputs": [],
   "source": [
    "## Load the model from file\n",
    "\n",
    "ECG_ENCODER_PATH = './PCLR.h5'\n",
    "MODEL_WEIGHTS = './best_model_weights.h5'\n",
    "\n",
    "# Load the ECG encoder architecture from the checkpoint\n",
    "ecg_encoder = load_model(ECG_ENCODER_PATH)\n",
    "\n",
    "# Get the latent representation (320-dimensional)\n",
    "latent = tf.keras.Model(ecg_encoder.inputs, ecg_encoder.get_layer('embed').output)\n",
    "\n",
    "enc = HFNet(TAB_SIZE_SPEC, latent)\n",
    "enc.build([(None,2500,12), (None, 2)])\n",
    "\n",
    "# Load the pre-trained model weights\n",
    "enc.load_weights(MODEL_WEIGHTS)"
   ]
  },
  {
   "cell_type": "code",
   "execution_count": null,
   "id": "cc32c172",
   "metadata": {},
   "outputs": [],
   "source": [
    "# Test out \n",
    "op = enc((np.random.randn(2, 2500, 12), np.random.randn(2,2)))"
   ]
  },
  {
   "cell_type": "code",
   "execution_count": null,
   "id": "4ebe2026",
   "metadata": {},
   "outputs": [],
   "source": [
    "op.shape"
   ]
  },
  {
   "cell_type": "code",
   "execution_count": null,
   "id": "df90384e",
   "metadata": {},
   "outputs": [],
   "source": [
    "op"
   ]
  },
  {
   "cell_type": "code",
   "execution_count": null,
   "id": "90ea5b43",
   "metadata": {},
   "outputs": [],
   "source": []
  }
 ],
 "metadata": {
  "kernelspec": {
   "display_name": "Python 3 (ipykernel)",
   "language": "python",
   "name": "python3"
  },
  "language_info": {
   "codemirror_mode": {
    "name": "ipython",
    "version": 3
   },
   "file_extension": ".py",
   "mimetype": "text/x-python",
   "name": "python",
   "nbconvert_exporter": "python",
   "pygments_lexer": "ipython3",
   "version": "3.10.4"
  }
 },
 "nbformat": 4,
 "nbformat_minor": 5
}
